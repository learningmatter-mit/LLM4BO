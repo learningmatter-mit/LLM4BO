{
 "cells": [
  {
   "cell_type": "code",
   "execution_count": 1,
   "id": "cd7c9f51",
   "metadata": {},
   "outputs": [
    {
     "name": "stdout",
     "output_type": "stream",
     "text": [
      "-1.2604166666666667\n"
     ]
    }
   ],
   "source": [
    "from Bio.Align import substitution_matrices\n",
    "blosum62_matrix = substitution_matrices.load(\"BLOSUM62\")\n",
    "\n",
    "import pandas as pd\n",
    "import numpy as np\n",
    "print(np.mean(blosum62_matrix))"
   ]
  },
  {
   "cell_type": "code",
   "execution_count": 2,
   "id": "aaca7271",
   "metadata": {},
   "outputs": [
    {
     "name": "stdout",
     "output_type": "stream",
     "text": [
      "Index(['Combo', 'fitness'], dtype='object')\n",
      "             fitness\n",
      "count  149361.000000\n",
      "mean        0.009189\n",
      "std         0.045126\n",
      "min         0.000000\n",
      "25%         0.000156\n",
      "50%         0.000386\n",
      "75%         0.001026\n",
      "max         1.000000\n",
      "         fitness\n",
      "count  20.000000\n",
      "mean    0.794922\n",
      "std     0.074391\n",
      "min     0.716157\n",
      "25%     0.739840\n",
      "50%     0.783813\n",
      "75%     0.831995\n",
      "max     1.000000\n"
     ]
    }
   ],
   "source": [
    "df = pd.read_csv(\"../data/GB1/fitness.csv\")\n",
    "print(df.columns)\n",
    "df.fitness = (df.fitness - df.fitness.min())/(df.fitness.max() - df.fitness.min())\n",
    "top_df = df.sort_values(by=\"fitness\", ascending=False).head(20)\n",
    "print(df.describe())\n",
    "print(top_df.describe())\n",
    "def sim(seq1, seq2):\n",
    "    return sum([blosum62_matrix[(s1, s2)] for s1, s2 in zip(seq1, seq2)])/4"
   ]
  },
  {
   "cell_type": "code",
   "execution_count": 3,
   "id": "5d70938c",
   "metadata": {},
   "outputs": [
    {
     "name": "stdout",
     "output_type": "stream",
     "text": [
      "(20, 2)\n"
     ]
    }
   ],
   "source": [
    "sims = []\n",
    "print(top_df.shape)\n",
    "for seq1 in top_df[\"Combo\"]:\n",
    "    s = 0\n",
    "    for seq2 in top_df[\"Combo\"]:\n",
    "        s += sim(seq1, seq2)\n",
    "    sims.append(s/top_df.shape[0])\n",
    "\n",
    "top_df[\"sim\"] = sims"
   ]
  },
  {
   "cell_type": "code",
   "execution_count": 4,
   "id": "2f72f6ca",
   "metadata": {},
   "outputs": [],
   "source": [
    "def scores(sequences):\n",
    "    return df[df['Combo'].isin(sequences)]"
   ]
  },
  {
   "cell_type": "code",
   "execution_count": 5,
   "id": "cb2dfe6e",
   "metadata": {},
   "outputs": [
    {
     "name": "stdout",
     "output_type": "stream",
     "text": [
      "  Combo   fitness\n",
      "0  AMHG  0.000000\n",
      "1  QPEI  0.000000\n",
      "2  GMYW  0.000000\n",
      "3  KWNA  0.000204\n",
      "4  QDRA  0.000540\n"
     ]
    }
   ],
   "source": [
    "print(scores(['AMHG', 'QPEI', 'GMYW', 'KWNA', 'QDRA']))"
   ]
  },
  {
   "cell_type": "code",
   "execution_count": 6,
   "id": "01966529",
   "metadata": {},
   "outputs": [
    {
     "name": "stdout",
     "output_type": "stream",
     "text": [
      "5.0\n"
     ]
    }
   ],
   "source": [
    "print(sim(\"WWCA\", \"WWFV\"))"
   ]
  },
  {
   "cell_type": "code",
   "execution_count": 18,
   "id": "7fdaece3",
   "metadata": {},
   "outputs": [
    {
     "name": "stdout",
     "output_type": "stream",
     "text": [
      "150\n",
      "60\n",
      "       Combo   fitness\n",
      "136163  VDGV  0.004284\n",
      "n combos 0.4796278211805556\n"
     ]
    }
   ],
   "source": [
    "import torch\n",
    "import glob\n",
    "from matplotlib import pyplot as plt\n",
    "protein = 'TrpB'\n",
    "files = glob.glob(f'../results/10_50_simulation/{protein}/onehot/DNN*indices.pt')\n",
    "#files = glob.glob(f'../results/*standalone4/{protein}/onehot/AGENT*.pt')\n",
    "fitness = pd.read_csv(f'../data/{protein}/fitness.csv')\n",
    "fitness.fitness = (fitness.fitness - fitness.fitness.min())/(fitness.fitness.max() - fitness.fitness.min())\n",
    "print(len(files))\n",
    "print(len(torch.load('../results/standalone_GB1_3/cycle_5_indices.pt')))\n",
    "fitness2 = pd.read_csv(f'../data/{protein}/fitness.csv')\n",
    "fitness2.fitness = (fitness2.fitness - fitness2.fitness.min())/(fitness2.fitness.max() - fitness2.fitness.min())\n",
    "print(fitness2[fitness2['Combo'] ==  'VDGV'])\n",
    "print(f'n combos {fitness2.shape[0]/24**4}')"
   ]
  },
  {
   "cell_type": "code",
   "execution_count": 20,
   "id": "f04b9521",
   "metadata": {},
   "outputs": [
    {
     "name": "stdout",
     "output_type": "stream",
     "text": [
      "Top 0.5%: 0.456275836, 795 samples\n",
      "Top 2%: 0.202988588, 3182 samples\n",
      "Underrepresentation of Trp in top 0.5 %: 157.53718681070077\n",
      "Underrepresentation of Trp in top 2% %: 11.676760503881896\n"
     ]
    }
   ],
   "source": [
    "top05 = fitness.sort_values(by='fitness', ascending=False).head(len(fitness)//200)\n",
    "top2 = fitness.sort_values(by='fitness', ascending=False).head(len(fitness)//50)\n",
    "print(f'Top 0.5%: {top05[\"fitness\"].min()}, {top05.shape[0]} samples')\n",
    "print(f'Top 2%: {top2[\"fitness\"].min()}, {top2.shape[0]} samples')\n",
    "representation = fitness['Combo'].apply(lambda sq: sq.count('W')/4).sum()/fitness.shape[0]\n",
    "print(f\"Underrepresentation of Trp in top 0.5 %: {representation/(top05['Combo'].apply(lambda sq: sq.count('W')/4).sum()/top05['Combo'].shape[0])}\")\n",
    "print(f\"Underrepresentation of Trp in top 2% %: {representation/(top2['Combo'].apply(lambda sq: sq.count('W')/4).sum()/top2['Combo'].shape[0])}\")"
   ]
  },
  {
   "cell_type": "code",
   "execution_count": 9,
   "id": "13010fab",
   "metadata": {},
   "outputs": [
    {
     "name": "stdout",
     "output_type": "stream",
     "text": [
      "../results/10_50_simulation/TrpB/onehot/DNN_ENSEMBLE-DO-0-RBF-GREEDY-[30, 1]_12indices.pt\n",
      "../results/10_50_simulation/TrpB/onehot/DNN_ENSEMBLE-DO-0-RBF-UCB-[30, 1]_48indices.pt\n",
      "../results/10_50_simulation/TrpB/onehot/DNN_ENSEMBLE-DO-0-RBF-UCB-[30, 1]_38indices.pt\n",
      "../results/10_50_simulation/TrpB/onehot/DNN_ENSEMBLE-DO-0-RBF-UCB-[30, 1]_16indices.pt\n",
      "../results/10_50_simulation/TrpB/onehot/DNN_ENSEMBLE-DO-0-RBF-TS-[30, 1]_24indices.pt\n",
      "../results/10_50_simulation/TrpB/onehot/DNN_ENSEMBLE-DO-0-RBF-TS-[30, 1]_12indices.pt\n",
      "../results/10_50_simulation/TrpB/onehot/DNN_ENSEMBLE-DO-0-RBF-UCB-[30, 1]_3indices.pt\n"
     ]
    },
    {
     "name": "stdout",
     "output_type": "stream",
     "text": [
      "../results/10_50_simulation/TrpB/onehot/DNN_ENSEMBLE-DO-0-RBF-TS-[30, 1]_33indices.pt\n",
      "../results/10_50_simulation/TrpB/onehot/DNN_ENSEMBLE-DO-0-RBF-GREEDY-[30, 1]_3indices.pt\n",
      "../results/10_50_simulation/TrpB/onehot/DNN_ENSEMBLE-DO-0-RBF-GREEDY-[30, 1]_5indices.pt\n",
      "../results/10_50_simulation/TrpB/onehot/DNN_ENSEMBLE-DO-0-RBF-TS-[30, 1]_42indices.pt\n",
      "../results/10_50_simulation/TrpB/onehot/DNN_ENSEMBLE-DO-0-RBF-UCB-[30, 1]_40indices.pt\n",
      "../results/10_50_simulation/TrpB/onehot/DNN_ENSEMBLE-DO-0-RBF-TS-[30, 1]_5indices.pt\n",
      "../results/10_50_simulation/TrpB/onehot/DNN_ENSEMBLE-DO-0-RBF-GREEDY-[30, 1]_4indices.pt\n",
      "../results/10_50_simulation/TrpB/onehot/DNN_ENSEMBLE-DO-0-RBF-TS-[30, 1]_8indices.pt\n",
      "../results/10_50_simulation/TrpB/onehot/DNN_ENSEMBLE-DO-0-RBF-GREEDY-[30, 1]_24indices.pt\n",
      "../results/10_50_simulation/TrpB/onehot/DNN_ENSEMBLE-DO-0-RBF-GREEDY-[30, 1]_31indices.pt\n",
      "../results/10_50_simulation/TrpB/onehot/DNN_ENSEMBLE-DO-0-RBF-UCB-[30, 1]_17indices.pt\n",
      "../results/10_50_simulation/TrpB/onehot/DNN_ENSEMBLE-DO-0-RBF-GREEDY-[30, 1]_49indices.pt\n",
      "../results/10_50_simulation/TrpB/onehot/DNN_ENSEMBLE-DO-0-RBF-TS-[30, 1]_48indices.pt\n",
      "../results/10_50_simulation/TrpB/onehot/DNN_ENSEMBLE-DO-0-RBF-TS-[30, 1]_31indices.pt\n",
      "../results/10_50_simulation/TrpB/onehot/DNN_ENSEMBLE-DO-0-RBF-GREEDY-[30, 1]_9indices.pt\n",
      "../results/10_50_simulation/TrpB/onehot/DNN_ENSEMBLE-DO-0-RBF-TS-[30, 1]_19indices.pt\n",
      "../results/10_50_simulation/TrpB/onehot/DNN_ENSEMBLE-DO-0-RBF-UCB-[30, 1]_33indices.pt\n",
      "../results/10_50_simulation/TrpB/onehot/DNN_ENSEMBLE-DO-0-RBF-UCB-[30, 1]_12indices.pt\n",
      "../results/10_50_simulation/TrpB/onehot/DNN_ENSEMBLE-DO-0-RBF-TS-[30, 1]_36indices.pt\n",
      "../results/10_50_simulation/TrpB/onehot/DNN_ENSEMBLE-DO-0-RBF-UCB-[30, 1]_42indices.pt\n",
      "../results/10_50_simulation/TrpB/onehot/DNN_ENSEMBLE-DO-0-RBF-UCB-[30, 1]_31indices.pt\n",
      "../results/10_50_simulation/TrpB/onehot/DNN_ENSEMBLE-DO-0-RBF-GREEDY-[30, 1]_8indices.pt\n",
      "../results/10_50_simulation/TrpB/onehot/DNN_ENSEMBLE-DO-0-RBF-UCB-[30, 1]_49indices.pt\n",
      "../results/10_50_simulation/TrpB/onehot/DNN_ENSEMBLE-DO-0-RBF-TS-[30, 1]_50indices.pt\n",
      "../results/10_50_simulation/TrpB/onehot/DNN_ENSEMBLE-DO-0-RBF-GREEDY-[30, 1]_48indices.pt\n",
      "../results/10_50_simulation/TrpB/onehot/DNN_ENSEMBLE-DO-0-RBF-GREEDY-[30, 1]_45indices.pt\n",
      "../results/10_50_simulation/TrpB/onehot/DNN_ENSEMBLE-DO-0-RBF-GREEDY-[30, 1]_29indices.pt\n",
      "../results/10_50_simulation/TrpB/onehot/DNN_ENSEMBLE-DO-0-RBF-TS-[30, 1]_29indices.pt\n",
      "../results/10_50_simulation/TrpB/onehot/DNN_ENSEMBLE-DO-0-RBF-UCB-[30, 1]_24indices.pt\n",
      "../results/10_50_simulation/TrpB/onehot/DNN_ENSEMBLE-DO-0-RBF-TS-[30, 1]_3indices.pt\n",
      "../results/10_50_simulation/TrpB/onehot/DNN_ENSEMBLE-DO-0-RBF-GREEDY-[30, 1]_16indices.pt\n",
      "../results/10_50_simulation/TrpB/onehot/DNN_ENSEMBLE-DO-0-RBF-UCB-[30, 1]_14indices.pt\n",
      "../results/10_50_simulation/TrpB/onehot/DNN_ENSEMBLE-DO-0-RBF-TS-[30, 1]_40indices.pt\n",
      "../results/10_50_simulation/TrpB/onehot/DNN_ENSEMBLE-DO-0-RBF-UCB-[30, 1]_9indices.pt\n",
      "../results/10_50_simulation/TrpB/onehot/DNN_ENSEMBLE-DO-0-RBF-GREEDY-[30, 1]_41indices.pt\n",
      "../results/10_50_simulation/TrpB/onehot/DNN_ENSEMBLE-DO-0-RBF-GREEDY-[30, 1]_33indices.pt\n"
     ]
    },
    {
     "data": {
      "image/png": "[encoded data removed]",
      "text/plain": [
       "<Figure size 640x480 with 1 Axes>"
      ]
     },
     "metadata": {},
     "output_type": "display_data"
    },
    {
     "name": "stdout",
     "output_type": "stream",
     "text": [
      "150\n"
     ]
    }
   ],
   "source": [
    "n, score = [],[]\n",
    "for file in files:\n",
    "    ind = torch.load(file)\n",
    "    n.append(len(ind))\n",
    "    score.append(fitness.iloc[ind].fitness.max())\n",
    "    if len(ind) < 60 or score[-1] < 0.3:\n",
    "        print(file)\n",
    "plt.axvline(x=np.mean(score), color='r', linestyle='--')\n",
    "plt.hist(score)\n",
    "plt.xlabel('Number of sequences selected')\n",
    "plt.ylabel('Average fitness')\n",
    "plt.show()\n",
    "print(len(files))"
   ]
  },
  {
   "cell_type": "code",
   "execution_count": 9,
   "id": "36173ee1",
   "metadata": {},
   "outputs": [
    {
     "name": "stdout",
     "output_type": "stream",
     "text": [
      "60\n"
     ]
    }
   ],
   "source": [
    "inds = torch.load('../results/10_50_blosum/GB1/onehot/DNN_ENSEMBLE-DO-0-RBF-SIMPLEAGENT-[30, 1]_2indices.pt')\n",
    "sub = df.iloc[inds]\n",
    "sq = sub['Combo'].tolist()\n",
    "print(len(list(set(sq))))"
   ]
  },
  {
   "cell_type": "code",
   "execution_count": 10,
   "id": "32c0ad3a",
   "metadata": {},
   "outputs": [
    {
     "ename": "NameError",
     "evalue": "name 'chat_completion' is not defined",
     "output_type": "error",
     "traceback": [
      "\u001b[31m---------------------------------------------------------------------------\u001b[39m",
      "\u001b[31mNameError\u001b[39m                                 Traceback (most recent call last)",
      "\u001b[36mCell\u001b[39m\u001b[36m \u001b[39m\u001b[32mIn[10]\u001b[39m\u001b[32m, line 1\u001b[39m\n\u001b[32m----> \u001b[39m\u001b[32m1\u001b[39m \u001b[38;5;28mprint\u001b[39m(\u001b[43mchat_completion\u001b[49m.choices[\u001b[32m0\u001b[39m].message.content)\n\u001b[32m      2\u001b[39m \u001b[38;5;28mprint\u001b[39m(chat_completion.choices[\u001b[32m0\u001b[39m].message.reasoning_content)\n",
      "\u001b[31mNameError\u001b[39m: name 'chat_completion' is not defined"
     ]
    }
   ],
   "source": [
    "print(chat_completion.choices[0].message.content)\n",
    "print(chat_completion.choices[0].message.reasoning_content)"
   ]
  },
  {
   "cell_type": "code",
   "execution_count": null,
   "id": "4d9578eb",
   "metadata": {},
   "outputs": [],
   "source": []
  },
  {
   "cell_type": "code",
   "execution_count": 4,
   "id": "ef65083e",
   "metadata": {},
   "outputs": [],
   "source": [
    "small_AA = ['A', 'G', 'S', 'C', 'T', 'P']\n",
    "medium_AA = ['V', 'N', 'D', 'H', 'M', 'Q', 'E']\n",
    "bulky_AA = ['L', 'I', 'K', 'R', 'F', 'Y', 'W']\n",
    "\n",
    "df = pd.read_csv(\"../data/TrpB/fitness.csv\")\n",
    "df['top2pc'] = df['fitness'].rank(pct=True) > 0.98\n",
    "df['top005pc'] = df['fitness'].rank(pct=True) > 0.995\n",
    "match1 = lambda sq : (sq[0] in small_AA) and (sq[1] in bulky_AA) and (sq[2] in small_AA) and (sq[3] in bulky_AA)\n",
    "match2 = lambda sq : (sq[0] in bulky_AA) and (sq[1] in small_AA) and (sq[2] in bulky_AA) and (sq[3] in small_AA)\n",
    "df['match1'] = df['Combo'].apply(match1)\n",
    "df['match2'] = df['Combo'].apply(match2)"
   ]
  },
  {
   "cell_type": "code",
   "execution_count": 7,
   "id": "a3dca765",
   "metadata": {},
   "outputs": [
    {
     "name": "stdout",
     "output_type": "stream",
     "text": [
      "       Combo   fitness  top2pc  top005pc  match1  match2\n",
      "137201  VFVS  0.408074    True     False   False   False\n",
      "0.455585216\n"
     ]
    }
   ],
   "source": [
    "print(df[df.Combo == 'VFVS'])\n",
    "print(df[df['top005pc'] == True]['fitness'].min())"
   ]
  },
  {
   "cell_type": "code",
   "execution_count": 6,
   "id": "8a41d7e3",
   "metadata": {},
   "outputs": [
    {
     "name": "stdout",
     "output_type": "stream",
     "text": [
      "0.9714777839272284\n",
      "3.6555080867688443\n",
      "0.9420390632021608\n",
      "5.327407134205758\n"
     ]
    }
   ],
   "source": [
    "n_1 = df['match1'].sum() / df.shape[0]\n",
    "n_2 = df['match2'].sum() / df.shape[0]\n",
    "\n",
    "frac1_top2pc = df[df['top2pc']]['match1'].sum() / df['top2pc'].sum()\n",
    "frac2_top2pc = df[df['top2pc']]['match2'].sum() / df['top2pc'].sum()\n",
    "frac1_top005pc = df[df['top005pc']]['match1'].sum() / df['top005pc'].sum()\n",
    "frac2_top005pc = df[df['top005pc']]['match2'].sum() / df['top005pc'].sum()\n",
    "\n",
    "print(frac1_top2pc / n_1)\n",
    "print(frac2_top2pc / n_2)\n",
    "print(frac1_top005pc / n_1)\n",
    "print(frac2_top005pc / n_2)"
   ]
  },
  {
   "cell_type": "code",
   "execution_count": null,
   "id": "b2390acf",
   "metadata": {},
   "outputs": [],
   "source": []
  }
 ],
 "metadata": {
  "kernelspec": {
   "display_name": "Python (alde_old)",
   "language": "python",
   "name": "alde_old"
  },
  "language_info": {
   "codemirror_mode": {
    "name": "ipython",
    "version": 3
   },
   "file_extension": ".py",
   "mimetype": "text/x-python",
   "name": "python",
   "nbconvert_exporter": "python",
   "pygments_lexer": "ipython3",
   "version": "3.11.13"
  }
 },
 "nbformat": 4,
 "nbformat_minor": 5
}
